{
 "metadata": {
  "kernelspec": {
   "language": "python",
   "display_name": "Python 3",
   "name": "python3"
  },
  "language_info": {
   "name": "python",
   "version": "3.10.10",
   "mimetype": "text/x-python",
   "codemirror_mode": {
    "name": "ipython",
    "version": 3
   },
   "pygments_lexer": "ipython3",
   "nbconvert_exporter": "python",
   "file_extension": ".py"
  }
 },
 "nbformat_minor": 4,
 "nbformat": 4,
 "cells": [
  {
   "cell_type": "markdown",
   "source": [
    "# Подготовка данных"
   ],
   "metadata": {}
  },
  {
   "cell_type": "markdown",
   "source": [
    "## Импортируем необходимые библиотеки"
   ],
   "metadata": {}
  },
  {
   "cell_type": "code",
   "source": [
    "import numpy as np\n",
    "import pandas as pd\n",
    "from matplotlib import pyplot as plt\n",
    "\n",
    "PATH = '/kaggle/input/transformer-time/'"
   ],
   "metadata": {
    "_uuid": "8f2839f25d086af736a60e9eeb907d3b93b6e0e5",
    "_cell_guid": "b1076dfc-b9ad-4769-8c92-a6c4dae69d19",
    "execution": {
     "iopub.status.busy": "2023-08-20T21:17:34.718805Z",
     "iopub.execute_input": "2023-08-20T21:17:34.719330Z",
     "iopub.status.idle": "2023-08-20T21:17:34.727207Z",
     "shell.execute_reply.started": "2023-08-20T21:17:34.719273Z",
     "shell.execute_reply": "2023-08-20T21:17:34.725835Z"
    },
    "trusted": true
   },
   "execution_count": null,
   "outputs": []
  },
  {
   "cell_type": "markdown",
   "source": [
    "## Составляем X_data и y_data"
   ],
   "metadata": {}
  },
  {
   "cell_type": "code",
   "source": [
    "# Состоит из названия файла и времени до поломки\n",
    "y_data = pd.read_csv(PATH + 'train.csv', index_col='id')\n",
    "y_data.head()"
   ],
   "metadata": {
    "execution": {
     "iopub.status.busy": "2023-08-20T21:17:34.736251Z",
     "iopub.execute_input": "2023-08-20T21:17:34.737288Z",
     "iopub.status.idle": "2023-08-20T21:17:34.763637Z",
     "shell.execute_reply.started": "2023-08-20T21:17:34.737244Z",
     "shell.execute_reply": "2023-08-20T21:17:34.762486Z"
    },
    "trusted": true
   },
   "execution_count": null,
   "outputs": []
  },
  {
   "cell_type": "code",
   "source": [
    "# Итерируем по строкам в датафрейме(кортеж - (it(имя в нашем случае файла, метки)))\n",
    "# Загружаем в словарь только те данные, по которым есть время до поломки\n",
    "\n",
    "X_data = {}\n",
    "for row in y_data.iterrows():\n",
    "    file_name = row[0]\n",
    "    path = PATH + f'data_train/data_train/{file_name}'\n",
    "    X_data[file_name] = pd.read_csv(path)"
   ],
   "metadata": {
    "execution": {
     "iopub.status.busy": "2023-08-20T21:17:34.766015Z",
     "iopub.execute_input": "2023-08-20T21:17:34.766738Z",
     "iopub.status.idle": "2023-08-20T21:17:41.173205Z",
     "shell.execute_reply.started": "2023-08-20T21:17:34.766698Z",
     "shell.execute_reply": "2023-08-20T21:17:41.172350Z"
    },
    "trusted": true
   },
   "execution_count": null,
   "outputs": []
  },
  {
   "cell_type": "code",
   "source": [
    "X_data[file_name].shape"
   ],
   "metadata": {
    "execution": {
     "iopub.status.busy": "2023-08-20T21:17:41.175113Z",
     "iopub.execute_input": "2023-08-20T21:17:41.176332Z",
     "iopub.status.idle": "2023-08-20T21:17:41.184719Z",
     "shell.execute_reply.started": "2023-08-20T21:17:41.176292Z",
     "shell.execute_reply": "2023-08-20T21:17:41.183845Z"
    },
    "trusted": true
   },
   "execution_count": null,
   "outputs": []
  },
  {
   "cell_type": "code",
   "source": [
    "X_data[file_name].head(2)"
   ],
   "metadata": {
    "execution": {
     "iopub.status.busy": "2023-08-20T21:17:41.186404Z",
     "iopub.execute_input": "2023-08-20T21:17:41.188265Z",
     "iopub.status.idle": "2023-08-20T21:17:41.202251Z",
     "shell.execute_reply.started": "2023-08-20T21:17:41.188225Z",
     "shell.execute_reply": "2023-08-20T21:17:41.201405Z"
    },
    "trusted": true
   },
   "execution_count": null,
   "outputs": []
  },
  {
   "cell_type": "markdown",
   "source": [
    "# Моделирование"
   ],
   "metadata": {}
  },
  {
   "cell_type": "markdown",
   "source": [
    "# Добавляем необходимые библиотеки\n"
   ],
   "metadata": {}
  },
  {
   "cell_type": "code",
   "source": [
    "from sklearn.model_selection import train_test_split\n",
    "from sklearn.linear_model import LinearRegression, LogisticRegression\n",
    "from sklearn.preprocessing import StandardScaler\n",
    "from sklearn.metrics import mean_absolute_error, f1_score\n",
    "from catboost import CatBoostRegressor\n",
    "from tsfresh.feature_extraction import extract_features, MinimalFCParameters"
   ],
   "metadata": {
    "execution": {
     "iopub.status.busy": "2023-08-20T21:17:41.207423Z",
     "iopub.execute_input": "2023-08-20T21:17:41.207816Z",
     "iopub.status.idle": "2023-08-20T21:17:41.215079Z",
     "shell.execute_reply.started": "2023-08-20T21:17:41.207777Z",
     "shell.execute_reply": "2023-08-20T21:17:41.214290Z"
    },
    "trusted": true
   },
   "execution_count": null,
   "outputs": []
  },
  {
   "cell_type": "markdown",
   "source": [
    "## Реализуем прогноз по среднему. В дальнейшем результат ниже нужно будет улучшить, чтобы было ясно, что новое решение лучше самого простого решения"
   ],
   "metadata": {}
  },
  {
   "cell_type": "code",
   "source": [
    "# Разделяем на тестовые обучающие данные\n",
    "\n",
    "y_train, y_val = train_test_split(y_data, test_size=0.25, random_state=1)\n",
    "print(f'Train set shape: {y_train.shape}')\n",
    "print(f'Test set shape: {y_val.shape}')"
   ],
   "metadata": {
    "execution": {
     "iopub.status.busy": "2023-08-20T21:17:41.216290Z",
     "iopub.execute_input": "2023-08-20T21:17:41.217300Z",
     "iopub.status.idle": "2023-08-20T21:17:41.229206Z",
     "shell.execute_reply.started": "2023-08-20T21:17:41.217206Z",
     "shell.execute_reply": "2023-08-20T21:17:41.228033Z"
    },
    "trusted": true
   },
   "execution_count": null,
   "outputs": []
  },
  {
   "cell_type": "code",
   "source": [
    "y_train_pred = [y_train.mean().values[0]] * len(y_train)\n",
    "y_val_pred = [y_train.mean().values[0]] * len(y_val)"
   ],
   "metadata": {
    "execution": {
     "iopub.status.busy": "2023-08-20T21:17:41.230531Z",
     "iopub.execute_input": "2023-08-20T21:17:41.231628Z",
     "iopub.status.idle": "2023-08-20T21:17:41.240271Z",
     "shell.execute_reply.started": "2023-08-20T21:17:41.231587Z",
     "shell.execute_reply": "2023-08-20T21:17:41.239146Z"
    },
    "trusted": true
   },
   "execution_count": null,
   "outputs": []
  },
  {
   "cell_type": "code",
   "source": [
    "# MAE на тренировочных\n",
    "mae_train = round(mean_absolute_error(y_train, y_train_pred), 2)\n",
    "\n",
    "# MAE на тестовых\n",
    "mae_val = round(mean_absolute_error(y_val, y_val_pred), 2)\n",
    "\n",
    "print(f'MAE on train set = {mae_train}')\n",
    "print(f'MAE on test set = {mae_val}')"
   ],
   "metadata": {
    "execution": {
     "iopub.status.busy": "2023-08-20T21:17:41.242500Z",
     "iopub.execute_input": "2023-08-20T21:17:41.242968Z",
     "iopub.status.idle": "2023-08-20T21:17:41.256327Z",
     "shell.execute_reply.started": "2023-08-20T21:17:41.242907Z",
     "shell.execute_reply": "2023-08-20T21:17:41.255299Z"
    },
    "trusted": true
   },
   "execution_count": null,
   "outputs": []
  },
  {
   "cell_type": "markdown",
   "source": [
    "### Реализация улучшенной модели\n",
    "Буду использовать следующие подходы: Агрегация данных с помощью TSFresh + Градиентный бустинг (CatBoost)"
   ],
   "metadata": {}
  },
  {
   "cell_type": "code",
   "source": [
    "X = pd.concat([X_data[file].assign(id=file) for file in y_data.index], axis=0, ignore_index=True)\n",
    "y = y_data.copy()\n",
    "\n",
    "from tsfresh.feature_extraction.settings import MinimalFCParameters, ComprehensiveFCParameters,EfficientFCParameters\n",
    "\n",
    "# Выбираем EfficientFCParameters, т.к. он гораздо быстрее ComprehensiveFCParameters +\n",
    "# в данной задаче MAE на ComprehensiveFCParameters и EfficientFCParameters в данном подходе почти равны\n",
    "#(выявлено экспериментальным методом)\n",
    "\n",
    "settings =EfficientFCParameters()\n",
    "\n",
    "X = extract_features(X, \n",
    "                     column_id=\"id\", \n",
    "                     default_fc_parameters=settings).loc[y.index]"
   ],
   "metadata": {
    "execution": {
     "iopub.status.busy": "2023-08-20T21:17:41.259119Z",
     "iopub.execute_input": "2023-08-20T21:17:41.260805Z",
     "iopub.status.idle": "2023-08-20T21:26:38.159007Z",
     "shell.execute_reply.started": "2023-08-20T21:17:41.260764Z",
     "shell.execute_reply": "2023-08-20T21:26:38.157988Z"
    },
    "trusted": true
   },
   "execution_count": null,
   "outputs": []
  },
  {
   "cell_type": "markdown",
   "source": [
    "# Импортируем необходимые библиотеки"
   ],
   "metadata": {}
  },
  {
   "cell_type": "code",
   "source": [
    "from catboost import CatBoostRegressor\n",
    "from sklearn.model_selection import train_test_split\n",
    "from sklearn.preprocessing import StandardScaler\n",
    "from sklearn.metrics import mean_absolute_error"
   ],
   "metadata": {
    "trusted": true
   },
   "execution_count": null,
   "outputs": []
  },
  {
   "cell_type": "markdown",
   "source": [
    "# Для наилучшего результата нужно подобрать параметры для CatBoostRegressor. (Параметры были подобраны итеративно)"
   ],
   "metadata": {}
  },
  {
   "cell_type": "code",
   "source": [
    "\n",
    "# Оптимальные параметры модели\n",
    "cbr_params = {\n",
    "    'depth': 4,\n",
    "    'n_estimators': 180,\n",
    "    'l2_leaf_reg': 13,\n",
    "    'subsample': 0.7,\n",
    "    'colsample_bylevel': 0.8,\n",
    "    'random_state': 1,\n",
    "    'verbose': 0\n",
    "}"
   ],
   "metadata": {
    "execution": {
     "iopub.status.busy": "2023-08-20T21:27:16.262858Z",
     "iopub.execute_input": "2023-08-20T21:27:16.263279Z",
     "iopub.status.idle": "2023-08-20T21:27:16.268448Z",
     "shell.execute_reply.started": "2023-08-20T21:27:16.263245Z",
     "shell.execute_reply": "2023-08-20T21:27:16.267250Z"
    },
    "trusted": true
   },
   "execution_count": null,
   "outputs": []
  },
  {
   "cell_type": "markdown",
   "source": [
    "# Интеративный способ подхода для нахождения оптимальных параметров. Я отсматривала на экране подходящие для меня варианты(было необходимо уменьшить вероятность переобучения и получить ошибку меньше 90)"
   ],
   "metadata": {}
  },
  {
   "cell_type": "code",
   "source": [
    "# Оптимальные параметры модели\n",
    "cbr_params = {\n",
    "    'depth': 4,\n",
    "    'n_estimators': 180,\n",
    "    'l2_leaf_reg': 13,\n",
    "    'subsample': 0.7,\n",
    "    'colsample_bylevel': 0.8,\n",
    "    'random_state': 1,\n",
    "    'verbose': 0\n",
    "}\n",
    "\n",
    "depth=[int(i) for i in range(4,10)]\n",
    "n_estimators=[int(i) for i in range(170,300,10)]\n",
    "l2_leaf_reg=[int(i) for i in range(6,17)]\n",
    "\n",
    "l=50\n",
    "cbr_params_g = {\n",
    "    'depth': 6,\n",
    "    'n_estimators': 220,\n",
    "    'l2_leaf_reg': 8,\n",
    "    'subsample': 0.7,\n",
    "    'colsample_bylevel': 0.8,\n",
    "    'random_state': 1,\n",
    "    'verbose': 0\n",
    "}\n",
    "\n",
    "for i in depth:\n",
    "    for k in l2_leaf_reg:\n",
    "    \n",
    "        for j in n_estimators:\n",
    "            print(i)\n",
    "            cbr_params['depth']=i\n",
    "            cbr_params['n_estimators']=j\n",
    "            cbr_params['l2_leaf_reg']=k\n",
    "            \n",
    "            # P.S. цифры 1,2... я писала, чтобы проверять корректность работы программы :)\n",
    "            # Создаем модель\n",
    "            cbr = CatBoostRegressor(**cbr_params)\n",
    "            print(1)\n",
    "            # Разделение данных на обучающий и проверочный наборы\n",
    "            X_train, X_val, y_train, y_val = train_test_split(X, y, test_size=0.25, random_state=1)\n",
    "            print(2)\n",
    "            # Обучение модели\n",
    "            cbr.fit(X_train, y_train, early_stopping_rounds=100)\n",
    "            print(3)\n",
    "            # Предсказания\n",
    "            y_train_pred = cbr.predict(X_train)\n",
    "            y_val_pred = cbr.predict(X_val)\n",
    "            print(4)\n",
    "            # Удаление выбросов\n",
    "            y_train_wo_outliers = y_train[y_train != 1093].dropna()\n",
    "            X_train_wo_outliers = X_train.loc[y_train_wo_outliers.index]\n",
    "            print(5)\n",
    "        \n",
    "            # Вычисление MAE\n",
    "            mae_train = round(mean_absolute_error(y_train, y_train_pred), 2)\n",
    "            mae_val = round(mean_absolute_error(y_val, y_val_pred), 2)\n",
    "            \n",
    "            print(\"!\")\n",
    "            print(mae_val)\n",
    "            print(mae_train)\n",
    "            print(cbr_params)\n",
    "            print(\"!\")\n",
    "            \n",
    "            # Отсчитываем 10%\n",
    "            mae_train_10_pr=mae_train/100*10\n",
    "            mae_val_10_pr=mae_val/100*10\n",
    "            \n",
    "            if mae_train_10_pr<abs(mae_train-mae_val) and mae_val_10_pr<abs(mae_train-mae_val) and mae_val<100 and mae_train<100:\n",
    "                if abs(mae_train-mae_val)<l:\n",
    "                    l=abs(mae_train-mae_val)\n",
    "                    cbr_params_g=cbr_params\n",
    "                    print(cbr_params_g)\n",
    "                    print(mae_val)\n",
    "                    print(mae_train)\n",
    "                    \n",
    "            \n",
    "print(cbr_params_g)"
   ],
   "metadata": {
    "execution": {
     "iopub.status.busy": "2023-08-20T21:39:15.167006Z",
     "iopub.execute_input": "2023-08-20T21:39:15.167691Z",
     "iopub.status.idle": "2023-08-20T21:52:18.789971Z",
     "shell.execute_reply.started": "2023-08-20T21:39:15.167655Z",
     "shell.execute_reply": "2023-08-20T21:52:18.788450Z"
    },
    "trusted": true
   },
   "execution_count": null,
   "outputs": []
  },
  {
   "cell_type": "code",
   "source": [
    "# Создаем модель\n",
    "cbr = CatBoostRegressor(**cbr_params)\n",
    "\n",
    "# Разделение данных на обучающий и проверочный наборы\n",
    "X_train, X_val, y_train, y_val = train_test_split(X, y, test_size=0.25, random_state=1)\n",
    "\n",
    "# Обучение модели\n",
    "cbr.fit(X_train, y_train, early_stopping_rounds=100)\n",
    "\n",
    "# Предсказания\n",
    "y_train_pred = cbr.predict(X_train)\n",
    "y_val_pred = cbr.predict(X_val)\n",
    "\n",
    "# Удаление выбросов\n",
    "y_train_wo_outliers = y_train[y_train != 1093].dropna()\n",
    "X_train_wo_outliers = X_train.loc[y_train_wo_outliers.index]\n",
    "#print(y_train_wo_outliers)\n",
    "#print(X_train_wo_outliers)\n",
    "\n",
    "# Вычисление MAE\n",
    "mae_train = round(mean_absolute_error(y_train, y_train_pred), 2)\n",
    "mae_val = round(mean_absolute_error(y_val, y_val_pred), 2)\n",
    "print(f'MAE on train set = {mae_train}')\n",
    "print(f'MAE on test set = {mae_val}')"
   ],
   "metadata": {
    "execution": {
     "iopub.status.busy": "2023-08-20T21:28:08.499184Z",
     "iopub.execute_input": "2023-08-20T21:28:08.499601Z",
     "iopub.status.idle": "2023-08-20T21:28:35.314464Z",
     "shell.execute_reply.started": "2023-08-20T21:28:08.499567Z",
     "shell.execute_reply": "2023-08-20T21:28:35.313367Z"
    },
    "trusted": true
   },
   "execution_count": null,
   "outputs": []
  },
  {
   "cell_type": "markdown",
   "source": [
    "# Таким образом была создана модель со значением 88.91<90; Модель без явного переобучения. "
   ],
   "metadata": {}
  }
 ]
}
